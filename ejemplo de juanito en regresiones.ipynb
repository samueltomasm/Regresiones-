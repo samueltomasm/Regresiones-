{
 "cells": [
  {
   "cell_type": "code",
   "execution_count": 1,
   "id": "91e00a17",
   "metadata": {},
   "outputs": [],
   "source": [
    "import matplotlib.pyplot as plt"
   ]
  },
  {
   "cell_type": "code",
   "execution_count": 2,
   "id": "d068621f",
   "metadata": {},
   "outputs": [],
   "source": [
    "x_lista=[1,5,10]"
   ]
  },
  {
   "cell_type": "code",
   "execution_count": 3,
   "id": "b59b4db6",
   "metadata": {},
   "outputs": [],
   "source": [
    "y_lista=[6,15,40]"
   ]
  },
  {
   "cell_type": "code",
   "execution_count": 6,
   "id": "0700333e",
   "metadata": {},
   "outputs": [
    {
     "data": {
      "image/png": "[encoded data removed]",
      "text/plain": [
       "<Figure size 432x288 with 1 Axes>"
      ]
     },
     "metadata": {
      "needs_background": "light"
     },
     "output_type": "display_data"
    }
   ],
   "source": [
    "contador=0\n",
    "for ciclo in x_lista:\n",
    "    plt.plot(ciclo, y_lista[contador],marker=\"o\",color=\"red\")\n",
    "    contador=contador+1\n",
    "plt.title(\"Gráfica de Edades y pesos de juanito\")\n",
    "plt.xlabel(\"Edad\")\n",
    "plt.ylabel(\"Peso\")\n",
    "plt.show()"
   ]
  },
  {
   "cell_type": "code",
   "execution_count": null,
   "id": "ccf51edd",
   "metadata": {},
   "outputs": [],
   "source": []
  },
  {
   "cell_type": "code",
   "execution_count": null,
   "id": "9a27c9fa",
   "metadata": {},
   "outputs": [],
   "source": []
  }
 ],
 "metadata": {
  "kernelspec": {
   "display_name": "Python 3 (ipykernel)",
   "language": "python",
   "name": "python3"
  },
  "language_info": {
   "codemirror_mode": {
    "name": "ipython",
    "version": 3
   },
   "file_extension": ".py",
   "mimetype": "text/x-python",
   "name": "python",
   "nbconvert_exporter": "python",
   "pygments_lexer": "ipython3",
   "version": "3.9.12"
  }
 },
 "nbformat": 4,
 "nbformat_minor": 5
}
