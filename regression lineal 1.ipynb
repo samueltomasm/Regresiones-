{
 "cells": [
  {
   "cell_type": "code",
   "execution_count": 1,
   "id": "e0c0a8c0",
   "metadata": {},
   "outputs": [],
   "source": [
    "import numpy as np\n",
    "import matplotlib.pyplot as plt\n",
    "from sklearn import linear_model\n",
    "from sklearn.metrics import mean_squared_error, r2_score"
   ]
  },
  {
   "cell_type": "code",
   "execution_count": 2,
   "id": "1b1d3fcc",
   "metadata": {},
   "outputs": [],
   "source": [
    "x = [1,2,3,4,5,6]\n",
    "y = [7000,  9000, 5000, 11000, 10000, 13000]\n",
    "z = [7]\n",
    "\n"
   ]
  },
  {
   "cell_type": "code",
   "execution_count": 3,
   "id": "230af6b5",
   "metadata": {},
   "outputs": [],
   "source": [
    "#Convertimos las listas de entrada en matrices\n",
    "x = np.array(x)\n",
    "y = np.array(y)\n",
    "z = np.array(z)\n",
    "\n"
   ]
  },
  {
   "cell_type": "code",
   "execution_count": 4,
   "id": "8ab26145",
   "metadata": {},
   "outputs": [
    {
     "data": {
      "image/png": "[encoded data removed]",
      "text/plain": [
       "<Figure size 432x288 with 1 Axes>"
      ]
     },
     "metadata": {
      "needs_background": "light"
     },
     "output_type": "display_data"
    }
   ],
   "source": [
    "#Graficamos los datos de entrada\n",
    "plt.scatter(x,y,label='data', color='blue')\n",
    "plt.title('Distribución entre meses y demanda');"
   ]
  },
  {
   "cell_type": "code",
   "execution_count": 5,
   "id": "32be36e3",
   "metadata": {},
   "outputs": [
    {
     "data": {
      "text/plain": [
       "LinearRegression()"
      ]
     },
     "execution_count": 5,
     "metadata": {},
     "output_type": "execute_result"
    }
   ],
   "source": [
    "regresion_lineal = linear_model.LinearRegression()\n",
    "regresion_lineal.fit(x.reshape(-1,1), y) \n"
   ]
  },
  {
   "cell_type": "code",
   "execution_count": 6,
   "id": "551ba7e7",
   "metadata": {},
   "outputs": [
    {
     "name": "stdout",
     "output_type": "stream",
     "text": [
      "\n",
      "Parámetros del modelo de regresión\n",
      "b (Pendiente) = [1114.28571429], a (Punto de corte) = 5266.666666666666\n"
     ]
    }
   ],
   "source": [
    "# Imprimimos los parámetros que ha estimado la regresión lineal\n",
    "print('\\nParámetros del modelo de regresión')\n",
    "print('b (Pendiente) = ' + str(regresion_lineal.coef_) + ', a (Punto de corte) = ' + str(regresion_lineal.intercept_))"
   ]
  },
  {
   "cell_type": "code",
   "execution_count": 11,
   "id": "2f5767d2",
   "metadata": {},
   "outputs": [
    {
     "name": "stdout",
     "output_type": "stream",
     "text": [
      "\n",
      "Pronósticos\n",
      "Pronóstico para el periodo [7] = [13066.66666667] \n"
     ]
    }
   ],
   "source": [
    "pronostico = regresion_lineal.predict(z.reshape(-1,1))\n",
    "\n",
    "print('\\nPronósticos')\n",
    "#for i in range(len(z)):\n",
    "print('Pronóstico para el periodo {0} = {1} '.format(z, pronostico))"
   ]
  },
  {
   "cell_type": "code",
   "execution_count": 12,
   "id": "c80a59bf",
   "metadata": {},
   "outputs": [
    {
     "name": "stdout",
     "output_type": "stream",
     "text": [
      "\n",
      "Evaluación de calidad de la regresión\n",
      "Error Cuadrático Medio (MSE) = 3184126.9841269846\n",
      "Raíz del Error Cuadrático Medio (RMSE) = 1784.412223710369\n",
      "Coeficiente de Determinación R2 = 0.5321282798833817\n"
     ]
    }
   ],
   "source": [
    "pronostico_entrenamiento = regresion_lineal.predict(x.reshape(-1,1))\n",
    "mse = mean_squared_error(y_true = y, y_pred = pronostico_entrenamiento)\n",
    "rmse = np.sqrt(mse)\n",
    "print('\\nEvaluación de calidad de la regresión')\n",
    "print('Error Cuadrático Medio (MSE) = ' + str(mse))\n",
    "print('Raíz del Error Cuadrático Medio (RMSE) = ' + str(rmse))\n",
    "\n",
    "r2 = regresion_lineal.score(x.reshape(-1,1), y)\n",
    "print('Coeficiente de Determinación R2 = ' + str(r2))"
   ]
  },
  {
   "cell_type": "code",
   "execution_count": 13,
   "id": "9464feab",
   "metadata": {},
   "outputs": [
    {
     "data": {
      "text/plain": [
       "Text(0, 0.5, 'Demanda')"
      ]
     },
     "execution_count": 13,
     "metadata": {},
     "output_type": "execute_result"
    },
    {
     "data": {
      "image/png": "[encoded data removed]",
      "text/plain": [
       "<Figure size 432x288 with 1 Axes>"
      ]
     },
     "metadata": {
      "needs_background": "light"
     },
     "output_type": "display_data"
    }
   ],
   "source": [
    "plt.plot(x,pronostico_entrenamiento,label='data', color='red')\n",
    "plt.xlabel('Meses')\n",
    "plt.ylabel('Demanda')"
   ]
  },
  {
   "cell_type": "code",
   "execution_count": null,
   "id": "ebc9543c",
   "metadata": {},
   "outputs": [],
   "source": []
  }
 ],
 "metadata": {
  "kernelspec": {
   "display_name": "Python 3 (ipykernel)",
   "language": "python",
   "name": "python3"
  },
  "language_info": {
   "codemirror_mode": {
    "name": "ipython",
    "version": 3
   },
   "file_extension": ".py",
   "mimetype": "text/x-python",
   "name": "python",
   "nbconvert_exporter": "python",
   "pygments_lexer": "ipython3",
   "version": "3.9.12"
  }
 },
 "nbformat": 4,
 "nbformat_minor": 5
}
